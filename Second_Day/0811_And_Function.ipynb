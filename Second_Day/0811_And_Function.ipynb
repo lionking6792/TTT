{
  "nbformat": 4,
  "nbformat_minor": 0,
  "metadata": {
    "colab": {
      "name": "0811_And_Function.ipynb",
      "provenance": [],
      "private_outputs": true,
      "collapsed_sections": []
    },
    "kernelspec": {
      "name": "python3",
      "display_name": "Python 3"
    }
  },
  "cells": [
    {
      "cell_type": "code",
      "metadata": {
        "id": "LFFfK6oCP_Xu",
        "colab_type": "code",
        "colab": {}
      },
      "source": [
        "#1. 패키지 가져오기\n",
        "\n",
        "import numpy as np\n",
        "\n",
        "print(np.__version__)"
      ],
      "execution_count": null,
      "outputs": []
    },
    {
      "cell_type": "code",
      "metadata": {
        "id": "PxL9OG1xQMXD",
        "colab_type": "code",
        "colab": {}
      },
      "source": [
        "#2. 입력/출력 데이터 만들기\n",
        "\n",
        "X = np.array([[0,0],[0,1],[1,0],[1,1]])\n",
        "y = np.array([[0],[0],[0],[1]])\n",
        "\n",
        "print(X)\n",
        "print(y)"
      ],
      "execution_count": null,
      "outputs": []
    },
    {
      "cell_type": "code",
      "metadata": {
        "id": "hTLjdjgJQ30m",
        "colab_type": "code",
        "colab": {}
      },
      "source": [
        "#3. Keras 패키지 불러오기\n",
        "\n",
        "from tensorflow import keras\n",
        "from keras.models import Sequential\n",
        "from keras.layers.core import Dense, Activation\n",
        "from keras.optimizers import SGD\n",
        "\n",
        "print(keras.__version__)"
      ],
      "execution_count": null,
      "outputs": []
    },
    {
      "cell_type": "code",
      "metadata": {
        "id": "ofxjepZeRaAY",
        "colab_type": "code",
        "colab": {}
      },
      "source": [
        "#4. Network 설정\n",
        "\n",
        "model = Sequential()\n",
        "\n",
        "model.add(Dense(units=1, input_dim=2))\n",
        "model.add(Activation('sigmoid')) # 입력층이자 출력층\n",
        "\n",
        "model.summary()"
      ],
      "execution_count": null,
      "outputs": []
    },
    {
      "cell_type": "code",
      "metadata": {
        "id": "2GycBgi7SiWU",
        "colab_type": "code",
        "colab": {}
      },
      "source": [
        "#5. compile\n",
        "\n",
        "sgd = SGD(learning_rate=0.1)\n",
        "model.compile(loss='binary_crossentropy',\n",
        "              optimizer=sgd)"
      ],
      "execution_count": null,
      "outputs": []
    },
    {
      "cell_type": "code",
      "metadata": {
        "id": "iRUFp54GTSrB",
        "colab_type": "code",
        "colab": {}
      },
      "source": [
        "#6. Train\n",
        "\n",
        "model.fit(X, y,\n",
        "          batch_size=1,\n",
        "          epochs=100)"
      ],
      "execution_count": null,
      "outputs": []
    },
    {
      "cell_type": "code",
      "metadata": {
        "id": "AvNzuH4PTqwA",
        "colab_type": "code",
        "colab": {}
      },
      "source": [
        "#7. test\n",
        "\n",
        "test_data = np.array([[0,1], [1,1], [1,0]])\n",
        "print(model.predict(test_data))\n",
        "print(model.predict_classes(test_data))"
      ],
      "execution_count": null,
      "outputs": []
    },
    {
      "cell_type": "code",
      "metadata": {
        "id": "jOR3YMEGVYPQ",
        "colab_type": "code",
        "colab": {}
      },
      "source": [
        ""
      ],
      "execution_count": null,
      "outputs": []
    }
  ]
}