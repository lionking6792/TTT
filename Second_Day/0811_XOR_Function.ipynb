{
  "nbformat": 4,
  "nbformat_minor": 0,
  "metadata": {
    "colab": {
      "name": "0811_XOR_Function.ipynb",
      "provenance": [],
      "private_outputs": true,
      "collapsed_sections": []
    },
    "kernelspec": {
      "name": "python3",
      "display_name": "Python 3"
    }
  },
  "cells": [
    {
      "cell_type": "code",
      "metadata": {
        "id": "8DZh6E5iWHrC",
        "colab_type": "code",
        "colab": {}
      },
      "source": [
        "#1. 패키지 가져오기\n",
        "\n",
        "import numpy as np\n",
        "\n",
        "print(np.__version__)"
      ],
      "execution_count": null,
      "outputs": []
    },
    {
      "cell_type": "code",
      "metadata": {
        "id": "-pzNEJ2yWVuM",
        "colab_type": "code",
        "colab": {}
      },
      "source": [
        "#2. 입력/출력 데이터 만들기\n",
        "\n",
        "X = np.array([[0,0],[0,1],[1,0],[1,1]])\n",
        "y = np.array([[0],[1],[1],[0]])\n",
        "\n",
        "print(X)\n",
        "print(y)"
      ],
      "execution_count": null,
      "outputs": []
    },
    {
      "cell_type": "code",
      "metadata": {
        "id": "zGYfqQMFWkJp",
        "colab_type": "code",
        "colab": {}
      },
      "source": [
        "#3. Keras 패키지 불러오기\n",
        "\n",
        "from tensorflow import keras\n",
        "from keras.models import Sequential\n",
        "from keras.layers.core import Dense, Activation\n",
        "from keras.optimizers import Adam\n",
        "\n",
        "print(keras.__version__)"
      ],
      "execution_count": null,
      "outputs": []
    },
    {
      "cell_type": "code",
      "metadata": {
        "id": "BFqnZYmfW2u0",
        "colab_type": "code",
        "colab": {}
      },
      "source": [
        "#4. Network 설정\n",
        "\n",
        "model = Sequential()\n",
        "\n",
        "model.add(Dense(units=8, input_dim=2, activation='relu'))\n",
        "\n",
        "model.add(Dense(units=8))\n",
        "model.add(Activation('relu'))\n",
        "\n",
        "model.add(Dense(units=1))\n",
        "model.add(Activation('sigmoid'))\n",
        "\n",
        "model.summary()"
      ],
      "execution_count": null,
      "outputs": []
    },
    {
      "cell_type": "code",
      "metadata": {
        "id": "ufaP1MUJXWK4",
        "colab_type": "code",
        "colab": {}
      },
      "source": [
        "#5. compile\n",
        "\n",
        "adam = Adam(learning_rate=0.1)\n",
        "model.compile(loss='binary_crossentropy',\n",
        "              optimizer=adam, metrics=['accuracy'])"
      ],
      "execution_count": null,
      "outputs": []
    },
    {
      "cell_type": "code",
      "metadata": {
        "id": "MmqnHKSXXhuz",
        "colab_type": "code",
        "colab": {}
      },
      "source": [
        "#6. Train\n",
        "\n",
        "model.fit(X, y,\n",
        "          batch_size=1,\n",
        "          epochs=100)"
      ],
      "execution_count": null,
      "outputs": []
    },
    {
      "cell_type": "code",
      "metadata": {
        "id": "cCKxOlvfXl9W",
        "colab_type": "code",
        "colab": {}
      },
      "source": [
        "#7. test\n",
        "\n",
        "test_data = np.array([[0,1],[1,1],[1,0],[0,0]])\n",
        "print(model.predict(test_data))\n",
        "print(model.predict_classes(test_data))"
      ],
      "execution_count": null,
      "outputs": []
    },
    {
      "cell_type": "code",
      "metadata": {
        "id": "KSCVdubsXx7b",
        "colab_type": "code",
        "colab": {}
      },
      "source": [
        "#8. Weight\n",
        "\n",
        "print(model.get_weights())"
      ],
      "execution_count": null,
      "outputs": []
    },
    {
      "cell_type": "code",
      "metadata": {
        "id": "KaqBKH8aaFYy",
        "colab_type": "code",
        "colab": {}
      },
      "source": [
        "?Sequential"
      ],
      "execution_count": null,
      "outputs": []
    },
    {
      "cell_type": "code",
      "metadata": {
        "id": "bwxxe9T_bQih",
        "colab_type": "code",
        "colab": {}
      },
      "source": [
        ""
      ],
      "execution_count": null,
      "outputs": []
    }
  ]
}