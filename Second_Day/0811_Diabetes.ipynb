{
  "nbformat": 4,
  "nbformat_minor": 0,
  "metadata": {
    "colab": {
      "name": "0811_Diabetes.ipynb",
      "provenance": [],
      "private_outputs": true,
      "collapsed_sections": []
    },
    "kernelspec": {
      "name": "python3",
      "display_name": "Python 3"
    }
  },
  "cells": [
    {
      "cell_type": "code",
      "metadata": {
        "id": "ninlSksOeNpv",
        "colab_type": "code",
        "colab": {}
      },
      "source": [
        "# 1. Data Upload\n",
        "\n",
        "from google.colab import files\n",
        "\n",
        "upload = files.upload()"
      ],
      "execution_count": null,
      "outputs": []
    },
    {
      "cell_type": "code",
      "metadata": {
        "id": "pgUWHabUfZtU",
        "colab_type": "code",
        "colab": {}
      },
      "source": [
        "# 2. Data 불러오기\n",
        "\n",
        "import pandas as pd\n",
        "\n",
        "data = pd.read_csv('diabetes_data.csv')\n",
        "data.head()"
      ],
      "execution_count": null,
      "outputs": []
    },
    {
      "cell_type": "code",
      "metadata": {
        "id": "nAyBPuoqgDA5",
        "colab_type": "code",
        "colab": {}
      },
      "source": [
        "# 3. Data Frame\n",
        "\n",
        "data.info()"
      ],
      "execution_count": null,
      "outputs": []
    },
    {
      "cell_type": "code",
      "metadata": {
        "id": "S56ObomKfqJH",
        "colab_type": "code",
        "colab": {}
      },
      "source": [
        "# 4. Feature/Label 분리\n",
        "\n",
        "data.describe(include='all')\n",
        "\n",
        "feature = data.iloc[:,0:-1]\n",
        "label = data.iloc[:,-1].values\n",
        "\n",
        "print(feature)\n",
        "print(label)"
      ],
      "execution_count": null,
      "outputs": []
    },
    {
      "cell_type": "code",
      "metadata": {
        "id": "qwfFy6cngLrw",
        "colab_type": "code",
        "colab": {}
      },
      "source": [
        "# 5. Train/Test 분리\n",
        "\n",
        "from sklearn.model_selection import train_test_split\n",
        "\n",
        "X_train, X_test, y_train, y_test = train_test_split(feature,\n",
        "                                                    label,\n",
        "                                                    test_size=0.2, random_state=1)\n",
        "'''\n",
        "# 스케일링\n",
        "\n",
        "from sklearn.preprocessing import StandardScaler\n",
        "\n",
        "scaler = StandardScaler()\n",
        "\n",
        "scaler.fit(X_train) # X_train으로 X_train과 X_test 모두 Scaling 시키기\n",
        "X_train = scaler.transform(X_train)\n",
        "X_test = scaler.transform(X_test)\n",
        "'''"
      ],
      "execution_count": null,
      "outputs": []
    },
    {
      "cell_type": "code",
      "metadata": {
        "id": "N76mnX2qgT2q",
        "colab_type": "code",
        "colab": {}
      },
      "source": [
        "# 6. Keras Package\n",
        "\n",
        "from tensorflow import keras\n",
        "from keras.models import Sequential\n",
        "from keras.layers.core import Dense, Activation\n",
        "from keras.optimizers import Adam\n",
        "from keras.layers import Dropout\n",
        "\n",
        "print(keras.__version__)"
      ],
      "execution_count": null,
      "outputs": []
    },
    {
      "cell_type": "code",
      "metadata": {
        "id": "8nNRij9cgXS3",
        "colab_type": "code",
        "colab": {}
      },
      "source": [
        "# 7. MLP 모델 생성\n",
        "\n",
        "model = Sequential()\n",
        "\n",
        "model.add(Dense(units=64, input_dim=8, activation='relu'))\n",
        "\n",
        "model.add(Dense(units=128))\n",
        "model.add(Activation('relu'))\n",
        "model.add(Dropout(0.3))\n",
        "\n",
        "model.add(Dense(units=64))\n",
        "model.add(Activation('relu'))\n",
        "model.add(Dropout(0.3))\n",
        "\n",
        "model.add(Dense(units=1))\n",
        "model.add(Activation('sigmoid'))\n",
        "\n",
        "model.summary()\n",
        "\n",
        "adam = Adam(learning_rate=0.01)\n",
        "model.compile(loss='binary_crossentropy',\n",
        "              optimizer=adam, metrics=['accuracy'])"
      ],
      "execution_count": null,
      "outputs": []
    },
    {
      "cell_type": "code",
      "metadata": {
        "id": "2qlxJOTIgbDd",
        "colab_type": "code",
        "colab": {}
      },
      "source": [
        "# 8. Train\n",
        "\n",
        "from keras.callbacks import EarlyStopping\n",
        "\n",
        "early_stop = EarlyStopping(patience=10) # 10개의 에포크를 기다림. 10개 초과로 로스가 높아지면 학습 중지\n",
        "\n",
        "history = model.fit(X_train,y_train,\n",
        "          batch_size=10,\n",
        "          validation_split=0.15,\n",
        "          epochs=100,\n",
        "          callbacks=[early_stop],\n",
        "          verbose=1)\n"
      ],
      "execution_count": null,
      "outputs": []
    },
    {
      "cell_type": "code",
      "metadata": {
        "id": "CV2duW-dgcsi",
        "colab_type": "code",
        "colab": {}
      },
      "source": [
        "# 9. Test/Evaluate\n",
        "\n",
        "# print(model.predict(X_test))\n",
        "# print(model.predict_classes(X_test))\n",
        "\n",
        "train_acc = model.evaluate(X_train, y_train)\n",
        "test_acc = model.evaluate(X_test, y_test)\n",
        "\n",
        "print(train_acc)\n",
        "print(test_acc)"
      ],
      "execution_count": null,
      "outputs": []
    },
    {
      "cell_type": "code",
      "metadata": {
        "id": "a30pjp8qjbxI",
        "colab_type": "code",
        "colab": {}
      },
      "source": [
        "# 10. 학습과정 시각화\n",
        "\n",
        "import matplotlib.pyplot as plt\n",
        "\n",
        "# Accuracy Graph\n",
        "plt.plot(history.history['accuracy'])\n",
        "plt.plot(history.history['val_accuracy'])\n",
        "\n",
        "plt.title(\"Accuracy\")\n",
        "plt.xlabel('epoch')\n",
        "plt.ylabel('acc')\n",
        "\n",
        "plt.legend(['train', 'test'], loc='upper left')\n",
        "\n",
        "plt.show()\n",
        "\n",
        "# Loss Graph\n",
        "plt.plot(history.history['loss'])\n",
        "plt.plot(history.history['val_loss'])\n",
        "\n",
        "plt.title(\"Loss\")\n",
        "plt.xlabel('epoch')\n",
        "plt.ylabel('loss')\n",
        "\n",
        "plt.legend(['train', 'test'], loc='upper left')\n",
        "\n",
        "plt.show()"
      ],
      "execution_count": null,
      "outputs": []
    },
    {
      "cell_type": "code",
      "metadata": {
        "id": "eIPl0R63oenw",
        "colab_type": "code",
        "colab": {}
      },
      "source": [
        "# 11. model save\n",
        "\n",
        "from keras.models import load_model\n",
        "\n",
        "model.save('diabetes_model.h5') # 모델 저장"
      ],
      "execution_count": null,
      "outputs": []
    },
    {
      "cell_type": "code",
      "metadata": {
        "id": "lvQkfOb9sBP-",
        "colab_type": "code",
        "colab": {}
      },
      "source": [
        "model = model.load_weights('diabetes_model.h5') # 모델 불러오기"
      ],
      "execution_count": null,
      "outputs": []
    },
    {
      "cell_type": "code",
      "metadata": {
        "id": "28GJs2P5sTi6",
        "colab_type": "code",
        "colab": {}
      },
      "source": [
        ""
      ],
      "execution_count": null,
      "outputs": []
    }
  ]
}