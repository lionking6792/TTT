{
  "nbformat": 4,
  "nbformat_minor": 0,
  "metadata": {
    "colab": {
      "name": "0811_Regression with Python.ipynb",
      "provenance": [],
      "private_outputs": true,
      "collapsed_sections": []
    },
    "kernelspec": {
      "name": "python3",
      "display_name": "Python 3"
    }
  },
  "cells": [
    {
      "cell_type": "code",
      "metadata": {
        "id": "2gpMvA19CXcY",
        "colab_type": "code",
        "colab": {}
      },
      "source": [
        "# 1. 패키지 가져오기\n",
        "\n",
        "import numpy as np\n",
        "import pandas as pd\n",
        "\n",
        "print(np.__version__)\n",
        "print(pd.__version__)"
      ],
      "execution_count": null,
      "outputs": []
    },
    {
      "cell_type": "code",
      "metadata": {
        "id": "xHTBG7HIQFEn",
        "colab_type": "code",
        "colab": {}
      },
      "source": [
        "# 2. 데이터 업로드\n",
        "\n",
        "from google.colab import files\n",
        "data = files.upload()"
      ],
      "execution_count": null,
      "outputs": []
    },
    {
      "cell_type": "code",
      "metadata": {
        "id": "WsAdJWyiQavV",
        "colab_type": "code",
        "colab": {}
      },
      "source": [
        "ls"
      ],
      "execution_count": null,
      "outputs": []
    },
    {
      "cell_type": "code",
      "metadata": {
        "id": "GJshv4nSQvxv",
        "colab_type": "code",
        "colab": {}
      },
      "source": [
        "# 3. 데이터 프레임\n",
        "\n",
        "data = pd.read_csv('SR_Data.csv')\n",
        "data.head()"
      ],
      "execution_count": null,
      "outputs": []
    },
    {
      "cell_type": "code",
      "metadata": {
        "id": "lGOh70juQ8Mx",
        "colab_type": "code",
        "colab": {}
      },
      "source": [
        "data.info()"
      ],
      "execution_count": null,
      "outputs": []
    },
    {
      "cell_type": "code",
      "metadata": {
        "id": "-elo5cPXRHU0",
        "colab_type": "code",
        "colab": {}
      },
      "source": [
        "data.describe(include='all')"
      ],
      "execution_count": null,
      "outputs": []
    },
    {
      "cell_type": "code",
      "metadata": {
        "id": "JE4nN8qDRM1P",
        "colab_type": "code",
        "colab": {}
      },
      "source": [
        "# 4. feature/label 분리\n",
        "\n",
        "feature = data.iloc[:,0:-1]\n",
        "label = data.iloc[:,-1].values\n",
        "\n",
        "print(feature)\n",
        "print(label)"
      ],
      "execution_count": null,
      "outputs": []
    },
    {
      "cell_type": "code",
      "metadata": {
        "id": "3X82HARwR9aS",
        "colab_type": "code",
        "colab": {}
      },
      "source": [
        "# 5. 빠진 값 확인\n",
        "\n",
        "feature.isnull().sum()"
      ],
      "execution_count": null,
      "outputs": []
    },
    {
      "cell_type": "code",
      "metadata": {
        "id": "2gFu7TLhScOy",
        "colab_type": "code",
        "colab": {}
      },
      "source": [
        "# 6. numeric빠진 값 채워넣기\n",
        "\n",
        "from sklearn.impute import SimpleImputer\n",
        "\n",
        "imputer = SimpleImputer(strategy='mean')\n",
        "\n",
        "feature.iloc[:, 1:] = imputer.fit_transform(feature.iloc[:, 1:])\n",
        "\n",
        "print(feature)\n",
        "\n",
        "feature.isnull().sum()"
      ],
      "execution_count": null,
      "outputs": []
    },
    {
      "cell_type": "code",
      "metadata": {
        "id": "wZH99VeITCO-",
        "colab_type": "code",
        "colab": {}
      },
      "source": [
        "# 7. 원-핫 인코딩\n",
        "\n",
        "from sklearn.compose import ColumnTransformer\n",
        "from sklearn.preprocessing import OneHotEncoder\n",
        "\n",
        "ColumnTransformer = ColumnTransformer([('onehotencoder', OneHotEncoder(), [0])],\n",
        "                                      remainder='passthrough')\n",
        "feature = ColumnTransformer.fit_transform(feature)\n",
        "\n",
        "print(feature)"
      ],
      "execution_count": null,
      "outputs": []
    },
    {
      "cell_type": "code",
      "metadata": {
        "id": "-nhYryKiTvDE",
        "colab_type": "code",
        "colab": {}
      },
      "source": [
        "# 8. 데이터 분리\n",
        "\n",
        "from sklearn.model_selection import train_test_split\n",
        "\n",
        "X_train, X_test, y_train, y_test = train_test_split(feature,\n",
        "                                                    label,\n",
        "                                                    test_size=0.2, random_state=1)\n",
        "\n",
        "print(X_test[:3])"
      ],
      "execution_count": null,
      "outputs": []
    },
    {
      "cell_type": "code",
      "metadata": {
        "id": "az-aXN_DUIrD",
        "colab_type": "code",
        "colab": {}
      },
      "source": [
        "# 9, 스케일링\n",
        "\n",
        "from sklearn.preprocessing import StandardScaler\n",
        "\n",
        "\n",
        "scaler = StandardScaler()\n",
        "\n",
        "scaler.fit(X_train)\n",
        "X_train = scaler.transform(X_train)\n",
        "X_test = scaler.transform(X_test)\n",
        "\n",
        "print(X_train[:3])"
      ],
      "execution_count": null,
      "outputs": []
    },
    {
      "cell_type": "code",
      "metadata": {
        "id": "AIkz2fGWUZMv",
        "colab_type": "code",
        "colab": {}
      },
      "source": [
        "# 10. 학습\n",
        "\n",
        "from sklearn.linear_model import LinearRegression\n",
        "\n",
        "linear = LinearRegression()\n",
        "linear.fit(X_train, y_train)"
      ],
      "execution_count": null,
      "outputs": []
    },
    {
      "cell_type": "code",
      "metadata": {
        "id": "R5Sj4BYjWBPd",
        "colab_type": "code",
        "colab": {}
      },
      "source": [
        "# 11. 예측\n",
        "\n",
        "y_pred = linear.predict(X_test)\n",
        "\n",
        "print(y_test)\n",
        "print(y_pred)"
      ],
      "execution_count": null,
      "outputs": []
    },
    {
      "cell_type": "code",
      "metadata": {
        "id": "IXxAkPBJWYUt",
        "colab_type": "code",
        "colab": {}
      },
      "source": [
        "# 12. mse 출력\n",
        "\n",
        "from sklearn.metrics import mean_squared_error, mean_absolute_error, r2_score\n",
        "\n",
        "mse = mean_squared_error(y_test, y_pred, squared=False)\n",
        "mae = mean_absolute_error(y_test, y_pred)\n",
        "r2 = r2_score(y_test, y_pred)\n",
        "\n",
        "print(mse)\n",
        "print(mae)\n",
        "print(r2)"
      ],
      "execution_count": null,
      "outputs": []
    },
    {
      "cell_type": "code",
      "metadata": {
        "id": "v422g_77Ytzt",
        "colab_type": "code",
        "colab": {}
      },
      "source": [
        ""
      ],
      "execution_count": null,
      "outputs": []
    }
  ]
}