{
  "nbformat": 4,
  "nbformat_minor": 0,
  "metadata": {
    "colab": {
      "name": "0810 Classification-with-Python.ipynb",
      "provenance": [],
      "private_outputs": true,
      "collapsed_sections": []
    },
    "kernelspec": {
      "name": "python3",
      "display_name": "Python 3"
    }
  },
  "cells": [
    {
      "cell_type": "code",
      "metadata": {
        "id": "aOGYomAdFczY",
        "colab_type": "code",
        "colab": {}
      },
      "source": [
        "# 1. package 거져오기\n",
        "\n",
        "import numpy as np\n",
        "import pandas as pd\n",
        "\n",
        "print(np.__version__)\n",
        "print(pd.__version__)"
      ],
      "execution_count": null,
      "outputs": []
    },
    {
      "cell_type": "code",
      "metadata": {
        "id": "cn_zOB5dGAba",
        "colab_type": "code",
        "colab": {}
      },
      "source": [
        "# 2. Data 업로드\n",
        "\n",
        "from google.colab import files\n",
        "data = files.upload()"
      ],
      "execution_count": null,
      "outputs": []
    },
    {
      "cell_type": "code",
      "metadata": {
        "id": "buz1TgSBGoLQ",
        "colab_type": "code",
        "colab": {}
      },
      "source": [
        "ls"
      ],
      "execution_count": null,
      "outputs": []
    },
    {
      "cell_type": "code",
      "metadata": {
        "id": "JXwkeItNGzde",
        "colab_type": "code",
        "colab": {}
      },
      "source": [
        "# 3. 데이터 프레임\n",
        "\n",
        "data = pd.read_csv('Social_Network_Ads.csv')\n",
        "data.head()"
      ],
      "execution_count": null,
      "outputs": []
    },
    {
      "cell_type": "code",
      "metadata": {
        "id": "y3h9v6juHKBA",
        "colab_type": "code",
        "colab": {}
      },
      "source": [
        "data.info() # 데이터에 대한 전반적인 정보"
      ],
      "execution_count": null,
      "outputs": []
    },
    {
      "cell_type": "code",
      "metadata": {
        "id": "UKPZqsp1HWTo",
        "colab_type": "code",
        "colab": {}
      },
      "source": [
        "data.describe() # 각각에 대한 상세한 정보"
      ],
      "execution_count": null,
      "outputs": []
    },
    {
      "cell_type": "code",
      "metadata": {
        "id": "eyMmviejHehj",
        "colab_type": "code",
        "colab": {}
      },
      "source": [
        "# 4. feature/label 분리\n",
        "\n",
        "feature = data.iloc[:,1:-1] # pandas에서 index로 위치 접근\n",
        "label = data.iloc[:,-1].values # 행은 전부 선택, 열은 마지막 열만 선택, values를 붙여서 바로 numpy로 바꿔줌 (matrix 형태로 바꾸어줌)\n",
        "\n",
        "print(feature)\n",
        "print(label)"
      ],
      "execution_count": null,
      "outputs": []
    },
    {
      "cell_type": "code",
      "metadata": {
        "id": "LZ3kxN2rJf1b",
        "colab_type": "code",
        "colab": {}
      },
      "source": [
        "# 5. 빠진 값 확인\n",
        "\n",
        "feature.isnull().sum()"
      ],
      "execution_count": null,
      "outputs": []
    },
    {
      "cell_type": "code",
      "metadata": {
        "id": "YO6aAEqVJ0Nm",
        "colab_type": "code",
        "colab": {}
      },
      "source": [
        "# 6. Clean Missing Data 1 - numeric\n",
        "\n",
        "from sklearn.impute import SimpleImputer\n",
        "\n",
        "imputer = SimpleImputer(strategy='mean') # 빈 값을 만나면 평균(strategy를 mean)으로 채우겠다라고 명시\n",
        "\n",
        "# imputer.fit(feature.iloc[:,1:]) # 평균값을 계산해라 ( fit )\n",
        "# feature.iloc[:,1:] = imputer.transform(feature.iloc[:,1:]) # 그 평균값을 빈 곳에 채워넣어라. ( transform )\n",
        "\n",
        "# 위의 두 줄을 한 줄로 합치기\n",
        "feature.iloc[:, 1:] = imputer.fit_transform(feature.iloc[:, 1:])\n",
        "\n",
        "print(feature)\n",
        "\n",
        "feature.isnull().sum() # 다시 한 번 빈 칸 확인"
      ],
      "execution_count": null,
      "outputs": []
    },
    {
      "cell_type": "code",
      "metadata": {
        "id": "WqCOjzqvL25s",
        "colab_type": "code",
        "colab": {}
      },
      "source": [
        "# 6. Clean Missing Data 2 = string\n",
        "\n",
        "string_imputer = SimpleImputer(strategy='most_frequent')\n",
        "feature.iloc[:,0] = string_imputer.fit_transform(feature.iloc[:,[0]]) # 하나만 넣어주면 에러. 리스트로 묶어서 넣어주기 ( [0] 을 하던지, 0:1 을 하던지 선택 )\n",
        "\n",
        "feature.isnull().sum()"
      ],
      "execution_count": null,
      "outputs": []
    },
    {
      "cell_type": "code",
      "metadata": {
        "id": "50K18b9uPPUd",
        "colab_type": "code",
        "colab": {}
      },
      "source": [
        "# 7. One hot encoding\n",
        "\n",
        "from sklearn.compose import ColumnTransformer\n",
        "from sklearn.preprocessing import OneHotEncoder\n",
        "\n",
        "ColumnTransformer = ColumnTransformer([('onehotencoder', OneHotEncoder(), [0])], \n",
        "                                      remainder='passthrough') # 0 번째 컬럼은 원 핫 인코딩, 나머지 컬럼은 remainder 그대로 두기\n",
        "feature = ColumnTransformer.fit_transform(feature)\n",
        "\n",
        "print(feature)\n",
        "\n",
        "# 다시, 이 셀을 실행하지 않도록 주의! 다시 돌리면 이 상태에서 또 바뀜."
      ],
      "execution_count": null,
      "outputs": []
    },
    {
      "cell_type": "code",
      "metadata": {
        "id": "Z9JRHZ2QWgBw",
        "colab_type": "code",
        "colab": {}
      },
      "source": [
        "# 8. split data\n",
        "\n",
        "from sklearn.model_selection import train_test_split\n",
        "\n",
        "X_train, X_test, y_train, y_test = train_test_split(feature,\n",
        "                                                  label,\n",
        "                                                  test_size=0.2, random_state=1)\n",
        "\n",
        "print(X_test[:3]) # 랜덤시드를 고정하지 않으면, 할 때 마다 랜덤한 것 값 나옴\n",
        "# print(X_test.shape)\n",
        "# print(X_train.shape)\n",
        "# print(y_test.shape)\n",
        "# print(y_train.shape)"
      ],
      "execution_count": null,
      "outputs": []
    },
    {
      "cell_type": "code",
      "metadata": {
        "id": "ibZ4g_fpYAwA",
        "colab_type": "code",
        "colab": {}
      },
      "source": [
        "# 9. train\n",
        "\n",
        "from sklearn.linear_model import LogisticRegression\n",
        "\n",
        "logistic = LogisticRegression()\n",
        "logistic.fit(X_train, y_train) # 학습"
      ],
      "execution_count": null,
      "outputs": []
    },
    {
      "cell_type": "code",
      "metadata": {
        "id": "TJ_cLFL7ZP8J",
        "colab_type": "code",
        "colab": {}
      },
      "source": [
        "# 10. Score\n",
        "\n",
        "y_pred = logistic.predict(X_test) # y_pred에 test 예측 결과값을 담는다."
      ],
      "execution_count": null,
      "outputs": []
    },
    {
      "cell_type": "code",
      "metadata": {
        "id": "ozDeYH6mZvo1",
        "colab_type": "code",
        "colab": {}
      },
      "source": [
        "# 11. Evaluate\n",
        "from sklearn.metrics import accuracy_score\n",
        "accuracy = accuracy_score(y_test, y_pred) # 정확도 측정\n",
        "print(accuracy)"
      ],
      "execution_count": null,
      "outputs": []
    },
    {
      "cell_type": "code",
      "metadata": {
        "id": "Vt6LtyIiZ_hE",
        "colab_type": "code",
        "colab": {}
      },
      "source": [
        "# 12. Confusion Matrix\n",
        "from sklearn.metrics import confusion_matrix\n",
        "cm = confusion_matrix(y_test, y_pred) # 혼동 행렬 구하기\n",
        "\n",
        "print(cm)"
      ],
      "execution_count": null,
      "outputs": []
    },
    {
      "cell_type": "code",
      "metadata": {
        "id": "UZO4mBh2aZUV",
        "colab_type": "code",
        "colab": {}
      },
      "source": [
        "print(y_pred) # scaling을 안해서 예측이 잘 안됨."
      ],
      "execution_count": null,
      "outputs": []
    },
    {
      "cell_type": "code",
      "metadata": {
        "id": "nMbex1bjasRb",
        "colab_type": "code",
        "colab": {}
      },
      "source": [
        ""
      ],
      "execution_count": null,
      "outputs": []
    }
  ]
}